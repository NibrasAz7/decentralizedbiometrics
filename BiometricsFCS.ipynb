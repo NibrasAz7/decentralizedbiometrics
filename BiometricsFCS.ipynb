{
  "nbformat": 4,
  "nbformat_minor": 0,
  "metadata": {
    "colab": {
      "provenance": [],
      "gpuType": "T4"
    },
    "kernelspec": {
      "name": "python3",
      "display_name": "Python 3"
    },
    "language_info": {
      "name": "python"
    },
    "accelerator": "GPU"
  },
  "cells": [
    {
      "cell_type": "markdown",
      "source": [
        "# installing dependencies\n"
      ],
      "metadata": {
        "id": "xkCOWVhX4xz1"
      }
    },
    {
      "cell_type": "code",
      "execution_count": null,
      "metadata": {
        "id": "zkqA2QLm3jqA"
      },
      "outputs": [],
      "source": [
        "!pip install -U \"web3[tester]\"\n",
        "!pip install --force-reinstall protobuf==3.20.3\n",
        "!pip install --force-reinstall jsonschema==3.2.0\n",
        "!pip install py-solc-x"
      ]
    },
    {
      "cell_type": "markdown",
      "source": [
        "# Libraries"
      ],
      "metadata": {
        "id": "6aF_NTx940a8"
      }
    },
    {
      "cell_type": "code",
      "source": [
        "from web3 import Web3\n",
        "from solcx import compile_source\n",
        "from solcx import install_solc\n",
        "from eth_tester.exceptions import TransactionFailed"
      ],
      "metadata": {
        "id": "OZ85b2363lf-"
      },
      "execution_count": 58,
      "outputs": []
    },
    {
      "cell_type": "markdown",
      "source": [
        "# Configration"
      ],
      "metadata": {
        "id": "XV--OERd4308"
      }
    },
    {
      "cell_type": "code",
      "source": [
        "install_solc(version='latest')\n",
        "w3 = Web3(Web3.EthereumTesterProvider())\n",
        "w3.eth.default_account= w3.eth.accounts[0] # This will be refered as BB01 the owner of the smart contract"
      ],
      "metadata": {
        "id": "1cdlZDfy45JE"
      },
      "execution_count": null,
      "outputs": []
    },
    {
      "cell_type": "markdown",
      "source": [
        "# Smart Contract"
      ],
      "metadata": {
        "id": "lHGP_ZHi49gl"
      }
    },
    {
      "cell_type": "markdown",
      "source": [
        "## Build Solididty Smart Contract"
      ],
      "metadata": {
        "id": "eYVw330y5AMc"
      }
    },
    {
      "cell_type": "code",
      "source": [
        "compiled_solidity = compile_source(\n",
        "    '''\n",
        "// SPDX-License-Identifier: MIT\n",
        "pragma solidity ^0.8.21;\n",
        "\n",
        "contract BiometricIdentity {\n",
        "\n",
        "    // Structures\n",
        "    struct Subject {\n",
        "        uint16 ID;           // ID of the Subject\n",
        "        uint16 hx;           // Hash representation\n",
        "        uint16 delta;        // The offset\n",
        "    }\n",
        "\n",
        "    struct Node {\n",
        "        uint ID;             // ID of the Node\n",
        "        string name;         // Name of the Node\n",
        "        address addr;        // Ethereum address of the Node\n",
        "        bool isAuthorised;   // Authorization status for AC\n",
        "        bool isEnrollment;   // Enrollment center status for EC\n",
        "    }\n",
        "\n",
        "    // Events\n",
        "    event SubjectSet(uint16 indexed _ID, uint16 _hx, uint16 _delta);\n",
        "    event SubjectUpdated(uint16 indexed _ID, uint16 _hx, uint16 _delta);\n",
        "    event SubjectDeleted(uint16 indexed _ID);\n",
        "    event NodeSet(uint indexed _ID, string _name, address _addr);\n",
        "    event NodeDeleted(address indexed _addr);\n",
        "    event NodeStatusUpdated(address indexed _addr, bool isAuthorised, bool isEnrollment);\n",
        "    event Error(string ErrorMessage);\n",
        "\n",
        "    // Private state variable for contract creator's address\n",
        "    address private owner;\n",
        "\n",
        "    // Mappings\n",
        "    mapping(uint16 => Subject) private subjects;\n",
        "    mapping(address => Node) private nodes;\n",
        "\n",
        "    // Modifiers\n",
        "    modifier isAC() {\n",
        "        require(nodes[msg.sender].isAuthorised, \"Caller is not an authorized Authentication Center\");\n",
        "        _;\n",
        "    }\n",
        "\n",
        "    modifier isEC() {\n",
        "        require(nodes[msg.sender].isEnrollment, \"Caller is not an Enrollment Center\");\n",
        "        _;\n",
        "    }\n",
        "\n",
        "    // Constructor\n",
        "    constructor() {\n",
        "        owner = msg.sender;\n",
        "        nodes[owner] = Node({\n",
        "            ID: 1,\n",
        "            name: \"First Enrollment Center\",\n",
        "            addr: owner,\n",
        "            isAuthorised: true,\n",
        "            isEnrollment: true\n",
        "        });\n",
        "    }\n",
        "\n",
        "    // Functions for Subjects\n",
        "    function setSubject(uint16 _ID, uint16 _hx, uint16 _delta) public isEC {\n",
        "        subjects[_ID] = Subject(_ID, _hx, _delta);\n",
        "        emit SubjectSet(_ID, _hx, _delta);\n",
        "    }\n",
        "\n",
        "    function getSubject(uint16 _ID) public view isAC returns (uint16, uint16, uint16) {\n",
        "        Subject memory subject = subjects[_ID];\n",
        "        return (subject.ID, subject.hx, subject.delta);\n",
        "    }\n",
        "\n",
        "    function updateSubject(uint16 _ID, uint16 _hx, uint16 _delta) public isEC {\n",
        "        Subject storage subject = subjects[_ID];\n",
        "        subject.hx = _hx;\n",
        "        subject.delta = _delta;\n",
        "        emit SubjectUpdated(_ID, _hx, _delta);\n",
        "    }\n",
        "\n",
        "    function deleteSubject(uint16 _ID) public isEC {\n",
        "        delete subjects[_ID];\n",
        "        emit SubjectDeleted(_ID);\n",
        "    }\n",
        "\n",
        "    // Functions for Nodes\n",
        "    function setNode(uint _ID, string memory _name, address _addr) public isEC {\n",
        "        nodes[_addr] = Node(_ID, _name, _addr, true, false); // Setting as authorized but not an enrollment center by default\n",
        "        emit NodeSet(_ID, _name, _addr);\n",
        "    }\n",
        "\n",
        "    function getNode(address _addr) public view isEC returns (uint, string memory, address, bool, bool) {\n",
        "        Node memory node = nodes[_addr];\n",
        "        return (node.ID, node.name, node.addr, node.isAuthorised, node.isEnrollment);\n",
        "    }\n",
        "\n",
        "    function deleteNode(address _addr) public isEC {\n",
        "        delete nodes[_addr];\n",
        "        emit NodeDeleted(_addr);\n",
        "    }\n",
        "\n",
        "    function updateNodeStatus(address _addr, bool _isAuthorised, bool _isEnrollment) public isEC {\n",
        "        Node storage node = nodes[_addr];\n",
        "        node.isAuthorised = _isAuthorised;\n",
        "        node.isEnrollment = _isEnrollment;\n",
        "        emit NodeStatusUpdated(_addr, _isAuthorised, _isEnrollment);\n",
        "    }\n",
        "}\n",
        "\n",
        "   '''\n",
        "   , output_values = ['abi', 'bin']\n",
        ")\n",
        "\n",
        "contract_id , contract_interface = compiled_solidity.popitem()\n",
        "abi = contract_interface['abi']\n",
        "bytecode = contract_interface['bin']"
      ],
      "metadata": {
        "id": "e-ncsI344SM9"
      },
      "execution_count": 5,
      "outputs": []
    },
    {
      "cell_type": "markdown",
      "source": [
        "## Deploy Smart Contract"
      ],
      "metadata": {
        "id": "Gq6pmvE65Ekf"
      }
    },
    {
      "cell_type": "code",
      "source": [
        "accessControlContract = w3.eth.contract(address = w3.eth.wait_for_transaction_receipt(w3.eth.contract(abi = abi, bytecode=bytecode).constructor().transact()).contractAddress, abi = abi)"
      ],
      "metadata": {
        "id": "YX6hiRFB4fLX"
      },
      "execution_count": 8,
      "outputs": []
    },
    {
      "cell_type": "markdown",
      "source": [
        "# Testing Smart Contract"
      ],
      "metadata": {
        "id": "WFKszDJe5Xag"
      }
    },
    {
      "cell_type": "code",
      "source": [
        "accessControlContract.all_functions()"
      ],
      "metadata": {
        "colab": {
          "base_uri": "https://localhost:8080/"
        },
        "id": "I750REO2HZxJ",
        "outputId": "f271844f-ab58-42c0-c7ab-b38f8b4ad152"
      },
      "execution_count": 9,
      "outputs": [
        {
          "output_type": "execute_result",
          "data": {
            "text/plain": [
              "[<Function deleteNode(address)>,\n",
              " <Function deleteSubject(uint16)>,\n",
              " <Function getNode(address)>,\n",
              " <Function getSubject(uint16)>,\n",
              " <Function setNode(uint256,string,address)>,\n",
              " <Function setSubject(uint16,uint16,uint16)>,\n",
              " <Function updateNodeStatus(address,bool,bool)>,\n",
              " <Function updateSubject(uint16,uint16,uint16)>]"
            ]
          },
          "metadata": {},
          "execution_count": 9
        }
      ]
    },
    {
      "cell_type": "code",
      "source": [
        "Main_Enrollment_Center = w3.eth.accounts[0] # Prevously set as default_account and it is the owner of the smart contract # This is an Enrollment Center and an Authentication Center\n",
        "postOfficeAddress = w3.eth.accounts[1] # Post Office Address for testing as AC node\n",
        "hospitalAddress = w3.eth.accounts[2] #  Hospital Address for testing as AC node\n",
        "ComuneAddress  = w3.eth.accounts[3] # Comune Address for testing\n",
        "whiteHatHackerAddress  = w3.eth.accounts[4] # White-hat Hacker Address for testing as AC node"
      ],
      "metadata": {
        "id": "BEw99bdOVX4I"
      },
      "execution_count": 83,
      "outputs": []
    },
    {
      "cell_type": "markdown",
      "source": [
        "## Regestration phase"
      ],
      "metadata": {
        "id": "6gPnOA-HRbi_"
      }
    },
    {
      "cell_type": "code",
      "source": [
        "accessControlContract.functions.setNode(1,              # ID\n",
        "                                        'Post Office',  # Name\n",
        "                                        postOfficeAddress       # Address\n",
        "                                        ).transact({'from': Main_Enrollment_Center}) # A transaction from the owner (default_account) of the smart contract\n",
        "\n",
        "accessControlContract.functions.setNode(2,              # ID\n",
        "                                        'Hospital',     # Name\n",
        "                                        hospitalAddress       # Address\n",
        "                                        ).transact({'from': Main_Enrollment_Center}) # A transaction from the owner (default_account) of the smart contract"
      ],
      "metadata": {
        "id": "GQVIvi6b5Zxp",
        "colab": {
          "base_uri": "https://localhost:8080/"
        },
        "outputId": "b77d1184-2610-41c0-8cc9-58270499ebef"
      },
      "execution_count": 84,
      "outputs": [
        {
          "output_type": "execute_result",
          "data": {
            "text/plain": [
              "HexBytes('0x3a984334bacad11a24ea01634ea3bae8fcca0aeb5c4d3d5dadad2821317a66bc')"
            ]
          },
          "metadata": {},
          "execution_count": 84
        }
      ]
    },
    {
      "cell_type": "markdown",
      "source": [
        "## Enrollment phase"
      ],
      "metadata": {
        "id": "m_Ow_7wTSB0Q"
      }
    },
    {
      "cell_type": "code",
      "source": [
        "accessControlContract.functions.setSubject(1,                         # ID\n",
        "                                           10110,                     # hx      # Random Number\n",
        "                                           1001                       # delta   # Random Number\n",
        "                                           ).transact({'from': Main_Enrollment_Center}) # Enrolled by BB01\n",
        "\n",
        "accessControlContract.functions.setSubject(2,                         # ID\n",
        "                                           11110,                     # hx      # Random Number\n",
        "                                           1101                       # delta   # Random Number\n",
        "                                           ).transact({'from': Main_Enrollment_Center}) # Enrolled by BB01\n",
        "\n",
        "accessControlContract.functions.setSubject(3,                         # ID\n",
        "                                           10111,                     # hx      # Random Numbe\n",
        "                                           1011                       # delta   # Random Number\n",
        "                                           ).transact({'from': Main_Enrollment_Center}) # Enrolled by BB01"
      ],
      "metadata": {
        "colab": {
          "base_uri": "https://localhost:8080/"
        },
        "id": "d_IDE7_cKSUH",
        "outputId": "241d9e74-9b05-4aa5-d991-a8d26325965b"
      },
      "execution_count": 85,
      "outputs": [
        {
          "output_type": "execute_result",
          "data": {
            "text/plain": [
              "HexBytes('0xa51ed0c6e9001cfaa35b0d23554b7d392dc3a0eefe393342e2daf4a4638aeb1b')"
            ]
          },
          "metadata": {},
          "execution_count": 85
        }
      ]
    },
    {
      "cell_type": "markdown",
      "source": [
        "## Authentication phase"
      ],
      "metadata": {
        "id": "50bBsBZyZNIX"
      }
    },
    {
      "cell_type": "code",
      "source": [
        "accessControlContract.functions.getSubject(1                                    # ID to be retrived\n",
        "                                           ).call({'from':Main_Enrollment_Center}) # Call from BB01"
      ],
      "metadata": {
        "colab": {
          "base_uri": "https://localhost:8080/"
        },
        "id": "cVwavcIvZqBx",
        "outputId": "fcfe6564-1578-4056-8b28-fa278f5411cf"
      },
      "execution_count": 86,
      "outputs": [
        {
          "output_type": "execute_result",
          "data": {
            "text/plain": [
              "[1, 10110, 1001]"
            ]
          },
          "metadata": {},
          "execution_count": 86
        }
      ]
    },
    {
      "cell_type": "code",
      "source": [
        "accessControlContract.functions.getSubject(2                                    # ID to be retrived\n",
        "                                           ).call({'from':postOfficeAddress}) # Call from BB02"
      ],
      "metadata": {
        "colab": {
          "base_uri": "https://localhost:8080/"
        },
        "id": "JddqSDxGLbDl",
        "outputId": "f3fff0d0-0e8e-4013-c2cd-003a0ef09424"
      },
      "execution_count": 87,
      "outputs": [
        {
          "output_type": "execute_result",
          "data": {
            "text/plain": [
              "[2, 11110, 1101]"
            ]
          },
          "metadata": {},
          "execution_count": 87
        }
      ]
    },
    {
      "cell_type": "code",
      "source": [
        "accessControlContract.functions.getSubject(3                                    # ID to be retrived\n",
        "                                           ).call({'from':hospitalAddress}) # Call from BB03"
      ],
      "metadata": {
        "colab": {
          "base_uri": "https://localhost:8080/"
        },
        "id": "CT0t7xgnZlzq",
        "outputId": "f529ca76-764d-49f2-b633-02d70c7c7b73"
      },
      "execution_count": 88,
      "outputs": [
        {
          "output_type": "execute_result",
          "data": {
            "text/plain": [
              "[3, 10111, 1011]"
            ]
          },
          "metadata": {},
          "execution_count": 88
        }
      ]
    },
    {
      "cell_type": "markdown",
      "source": [
        "# Revocation phase"
      ],
      "metadata": {
        "id": "Va0Zo70FVQUV"
      }
    },
    {
      "cell_type": "code",
      "source": [
        "accessControlContract.functions.deleteSubject(4                                 # Id of the subject to be deleted\n",
        "                                              ).transact({'from': Main_Enrollment_Center})   # deleter of the subject"
      ],
      "metadata": {
        "colab": {
          "base_uri": "https://localhost:8080/"
        },
        "id": "jQkpIEjwVPa9",
        "outputId": "8bc2c0d6-bc00-41bb-ed77-0c223d2fb17f"
      },
      "execution_count": 89,
      "outputs": [
        {
          "output_type": "execute_result",
          "data": {
            "text/plain": [
              "HexBytes('0xc5a301d0be6d90c60aedea26f7fd966095c777ac86654e59f29ede795fa016b2')"
            ]
          },
          "metadata": {},
          "execution_count": 89
        }
      ]
    },
    {
      "cell_type": "markdown",
      "source": [
        "## Other functionality testing"
      ],
      "metadata": {
        "id": "BqV4qFa-aZZk"
      }
    },
    {
      "cell_type": "markdown",
      "source": [
        "### Updating an authetication center to an enrollment center"
      ],
      "metadata": {
        "id": "BOlVVDM2afBh"
      }
    },
    {
      "cell_type": "code",
      "source": [
        "accessControlContract.functions.updateNodeStatus(postOfficeAddress,                     # adress of the post office\n",
        "                                                 True,                          # Authentication Center\n",
        "                                                 True                           # Enrollment Center\n",
        "                                                 ).transact({'from':Main_Enrollment_Center})"
      ],
      "metadata": {
        "colab": {
          "base_uri": "https://localhost:8080/"
        },
        "id": "4O8M0vdzaeRC",
        "outputId": "90c273e8-3a09-4d9b-c347-527ad306b716"
      },
      "execution_count": 90,
      "outputs": [
        {
          "output_type": "execute_result",
          "data": {
            "text/plain": [
              "HexBytes('0x4a8e8bf04ba14e68b353706274da7c7b85ba7e443897c791344a88c16f75d457')"
            ]
          },
          "metadata": {},
          "execution_count": 90
        }
      ]
    },
    {
      "cell_type": "markdown",
      "source": [
        "### Enroll a subject from the updated center"
      ],
      "metadata": {
        "id": "WmQUntdHa8B1"
      }
    },
    {
      "cell_type": "code",
      "source": [
        "accessControlContract.functions.setSubject(4,                         # ID\n",
        "                                           11110,                     # hx      # Random Numbe\n",
        "                                           1110                       # delta   # Random Number\n",
        "                                           ).transact({'from': postOfficeAddress}) # Enrolled by  (Post Office)"
      ],
      "metadata": {
        "colab": {
          "base_uri": "https://localhost:8080/"
        },
        "id": "cDIaihMiaeO-",
        "outputId": "91bc485e-3f0f-433f-9a7e-72735e2ef35e"
      },
      "execution_count": 91,
      "outputs": [
        {
          "output_type": "execute_result",
          "data": {
            "text/plain": [
              "HexBytes('0x35e36a67ea3a8fc318694d36fa48926730bd2ca6d2ab42146220ba81fa453223')"
            ]
          },
          "metadata": {},
          "execution_count": 91
        }
      ]
    },
    {
      "cell_type": "markdown",
      "source": [
        "## Preventing White-hat Hacker from unauthorization acces\n"
      ],
      "metadata": {
        "id": "cImbeqL3Z7Z7"
      }
    },
    {
      "cell_type": "markdown",
      "source": [
        "### Gain access to the data"
      ],
      "metadata": {
        "id": "wbjUEX9mbp9o"
      }
    },
    {
      "cell_type": "code",
      "source": [
        "try:\n",
        "    result = accessControlContract.functions.getSubject(3).call({'from': whiteHatHackerAddress})\n",
        "    # Process the result here\n",
        "except TransactionFailed as e:\n",
        "    print(f\"Transaction failed: {e}\")\n",
        "except NameError as e:\n",
        "    print(f\"Error: {e}\")"
      ],
      "metadata": {
        "colab": {
          "base_uri": "https://localhost:8080/"
        },
        "id": "EABSVwVLaOac",
        "outputId": "b29139ce-d712-487d-ecf7-748347d4551e"
      },
      "execution_count": 92,
      "outputs": [
        {
          "output_type": "stream",
          "name": "stdout",
          "text": [
            "Transaction failed: execution reverted: Caller is not an authorized Authentication Center\n"
          ]
        }
      ]
    },
    {
      "cell_type": "code",
      "source": [
        "try:\n",
        "    result = accessControlContract.functions.getNode(whiteHatHackerAddress).call({'from':whiteHatHackerAddress})\n",
        "    # Process the result here\n",
        "except TransactionFailed as e:\n",
        "    print(f\"Transaction failed: {e}\")\n",
        "except NameError as e:\n",
        "    print(f\"Error: {e}\")"
      ],
      "metadata": {
        "colab": {
          "base_uri": "https://localhost:8080/"
        },
        "id": "UvDm6YvGbwCu",
        "outputId": "ce7ed1bb-0ecd-4694-c8ab-0b0ce71058c9"
      },
      "execution_count": 93,
      "outputs": [
        {
          "output_type": "stream",
          "name": "stdout",
          "text": [
            "Transaction failed: execution reverted: Caller is not an Enrollment Center\n"
          ]
        }
      ]
    },
    {
      "cell_type": "markdown",
      "source": [
        "### Enroll subject from non-enroll center"
      ],
      "metadata": {
        "id": "idjNh9EcaTaW"
      }
    },
    {
      "cell_type": "code",
      "source": [
        "try:\n",
        "    result = accessControlContract.functions.setSubject(5,10001,1000).transact({'from': whiteHatHackerAddress})\n",
        "    # Process the result here\n",
        "except TransactionFailed as e:\n",
        "    print(f\"Transaction failed: {e}\")\n",
        "except NameError as e:\n",
        "    print(f\"Error: {e}\")"
      ],
      "metadata": {
        "colab": {
          "base_uri": "https://localhost:8080/"
        },
        "id": "dp3OhT7EaRBG",
        "outputId": "28915a41-cddd-4315-d606-9c3832af575e"
      },
      "execution_count": 94,
      "outputs": [
        {
          "output_type": "stream",
          "name": "stdout",
          "text": [
            "Transaction failed: execution reverted: Caller is not an Enrollment Center\n"
          ]
        }
      ]
    },
    {
      "cell_type": "markdown",
      "source": [
        "# Interacting with the smart contract"
      ],
      "metadata": {
        "id": "TXhgDpLxT8Ve"
      }
    },
    {
      "cell_type": "code",
      "source": [
        "# ID =  Web3.keccak(text=\"BLZNRS\")\n",
        "# hx =  Web3.to_bytes(10110)\n",
        "# delta =  Web3.to_bytes(1001)\n",
        "print(\"Enrollmetn Started\") # BLZNRS Codice Fiscale\n",
        "ID = input(\"Please enter ID: \")\n",
        "ID_int = int(ID)\n",
        "hx = input(\"Please enter Hx: \")\n",
        "hx_int = int(hx)\n",
        "delta = input(\"Please enter delta: \")\n",
        "delta_int = int(delta)\n",
        "accessControlContract.functions.setSubject(ID_int,                         # ID\n",
        "                                           hx_int,                     # hx      # Random Number\n",
        "                                           delta_int                       # delta   # Random Number\n",
        "                                           ).transact({'from': Main_Enrollment_Center}) # Enrolled by BB01\n",
        "\n",
        "print(\"Authentication started\")\n",
        "ID = input(\"Please enter ID: \")\n",
        "ID_int = int(ID)\n",
        "data = accessControlContract.functions.getSubject(ID_int                                    # ID to be retrived\n",
        "                                           ).call({'from':Main_Enrollment_Center}) # Call from BB01\n",
        "\n",
        "delta = data[2]\n",
        "hx = data[2]\n",
        "print(\"Delta:\\t\", delta, \"\\nhx:\\t\",hx)"
      ],
      "metadata": {
        "colab": {
          "base_uri": "https://localhost:8080/"
        },
        "id": "YSmTjgF8T72v",
        "outputId": "e5753129-b858-4782-bc3e-b98316713fd2"
      },
      "execution_count": 82,
      "outputs": [
        {
          "output_type": "stream",
          "name": "stdout",
          "text": [
            "Enrollmetn Started\n",
            "Please enter ID: 5\n",
            "Please enter Hx: 11011\n",
            "Please enter delta: 10100\n",
            "Authentication started\n",
            "Please enter ID: 5\n",
            "Delta:\t 10100 \n",
            "hx:\t 10100\n"
          ]
        }
      ]
    }
  ]
}
